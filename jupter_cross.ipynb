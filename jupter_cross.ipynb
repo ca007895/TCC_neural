{
 "cells": [
  {
   "cell_type": "code",
   "execution_count": 2,
   "metadata": {},
   "outputs": [
    {
     "name": "stderr",
     "output_type": "stream",
     "text": [
      "Using TensorFlow backend.\n"
     ]
    }
   ],
   "source": [
    "from numpy import loadtxt\n",
    "from keras.models import Sequential\n",
    "from keras.layers import Dense\n",
    "from sklearn.model_selection import train_test_split\n",
    "from sklearn.metrics import confusion_matrix\n",
    "from sklearn import metrics\n",
    "from scipy.stats import zscore\n",
    "import numpy as np\n",
    "import pandas as pd\n",
    "import seaborn as sns\n",
    "import matplotlib.pyplot as plt\n",
    "from keras.callbacks import ModelCheckpoint\n",
    "import tensorflow as tf\n",
    "from sklearn.model_selection import KFold\n",
    "from tensorflow.keras.layers import Dense, Activation\n",
    "from keras.utils import to_categorical\n",
    "from sklearn.model_selection import StratifiedKFold"
   ]
  },
  {
   "cell_type": "code",
   "execution_count": 3,
   "metadata": {},
   "outputs": [],
   "source": [
    "# LER OS DADOS E SEPARA-LOS\n",
    "dataset = pd.read_csv('dadosCORRETOS.csv', header=1)"
   ]
  },
  {
   "cell_type": "code",
   "execution_count": 4,
   "metadata": {},
   "outputs": [],
   "source": [
    "x = dataset.iloc[:,3:54676].values\n",
    "y = dataset.iloc[:,2].values\n",
    "X_train, X_test, y_train, y_test = train_test_split(x, y, test_size=0.2)"
   ]
  },
  {
   "cell_type": "code",
   "execution_count": null,
   "metadata": {},
   "outputs": [
    {
     "name": "stderr",
     "output_type": "stream",
     "text": [
      "Using TensorFlow backend.\n"
     ]
    }
   ],
   "source": [
    "from keras.callbacks import EarlyStopping, ModelCheckpoint, ReduceLROnPlateau\n",
    "# Cross-Validate\n",
    "kf = StratifiedKFold(n_splits=5, shuffle=True, random_state=7)\n",
    "oos_y = []\n",
    "oos_pred = []\n",
    "models = []\n",
    "cvscores = []\n",
    "history = []\n",
    "fold = 0\n",
    "for train, test in kf.split(X_train, y_train):\n",
    "    fold+=1\n",
    "    print(f\"Fold #{fold}\")\n",
    "    filepath= 'teste2/'+str(fold)+\"-Correto4.hdf5\"\n",
    "    filepath2= 'teste2/'+str(fold)+\"-Correto5.hdf5\"\n",
    "    filepath3= 'teste2/'+str(fold)+\"-Correto6.hdf5\"\n",
    "    filepath4= 'teste2/'+str(fold)+\"-Correto7.hdf5\"\n",
    "    mcp_save = ModelCheckpoint(filepath ,save_best_only=True, verbose=0, monitor='val_loss', mode='min')\n",
    "    acura_save = ModelCheckpoint(filepath2 ,save_best_only=True, verbose=0, monitor='val_accuracy', mode='max')\n",
    "    mcp_savew = ModelCheckpoint(filepath3 ,save_best_only=True, verbose=0, monitor='loss', mode='min')\n",
    "    acura_savew = ModelCheckpoint(filepath4 ,save_best_only=True, verbose=0, monitor='accuracy', mode='max')\n",
    "    \n",
    "    model = tf.keras.Sequential()\n",
    "    model.add(Dense(64, input_dim=x.shape[1], activation='relu'))\n",
    "    model.add(Dense(32, activation='relu'))\n",
    "    model.add(Dense(1, activation='sigmoid'))\n",
    "    model.compile(loss='binary_crossentropy', optimizer='Adam', metrics=['accuracy'])\n",
    "    #   \n",
    "    history.append(model.fit(X_train[train], y_train[train], validation_data=(X_train[test], y_train[test]), \n",
    "        # salvar parametros melhor acuracy # callbacks= [acura_save],\n",
    "                             verbose=2, batch_size=200, epochs=100))\n",
    "    \n",
    "    pred = model.predict(X_test)\n",
    "    \n",
    "    oos_y.append(y_test)\n",
    "    oos_pred.append(pred)\n",
    "    models.append(model)\n",
    "    score = np.sqrt(metrics.mean_squared_error(pred,y_test))\n",
    "    print(f\"Fold score (RMSE): {score}\")\n",
    "    \n",
    "oos_y = np.concatenate(oos_y)\n",
    "oos_pred = np.concatenate(oos_pred)\n",
    "score = np.sqrt(metrics.mean_squared_error(oos_pred,oos_y))\n",
    "print(f\"Final, out of sample score (RMSE): {score}\")"
   ]
  },
  {
   "cell_type": "code",
   "execution_count": null,
   "metadata": {},
   "outputs": [],
   "source": [
    "# Mostrar melhor resultado obtidos em cada fold\n",
    "\n",
    "for result in history:\n",
    "    validation_acc = np.amax(result.history['val_accuracy'])\n",
    "    print(validation_acc)"
   ]
  },
  {
   "cell_type": "code",
   "execution_count": null,
   "metadata": {},
   "outputs": [],
   "source": [
    "# Mostrar acuracia de cada fold nos dados de teste\n",
    "\n",
    "for model in models:\n",
    "    _, accuracy = model.evaluate(X_test, y_test, verbose = 0)\n",
    "    print('Accuracy: %.2f' % (accuracy*100))"
   ]
  },
  {
   "cell_type": "code",
   "execution_count": null,
   "metadata": {},
   "outputs": [],
   "source": [
    "def plot_history(history):\n",
    "    loss_list = [s for s in history.history.keys() if 'loss' in s and 'val' not in s]\n",
    "    val_loss_list = [s for s in history.history.keys() if 'loss' in s and 'val' in s]\n",
    "    acc_list = [s for s in history.history.keys() if 'acc' in s and 'val' not in s]\n",
    "    val_acc_list = [s for s in history.history.keys() if 'acc' in s and 'val' in s]\n",
    "    \n",
    "    if len(loss_list) == 0:\n",
    "        print('Loss is missing in history')\n",
    "        return \n",
    "    \n",
    "    ## As loss always exists\n",
    "    epochs = range(1,len(history.history[loss_list[0]]) + 1)\n",
    "    \n",
    "    ## Loss\n",
    "    plt.figure(1)\n",
    "    for l in loss_list:\n",
    "        plt.plot(epochs, history.history[l], 'b', label='Training loss (' + str(str(format(history.history[l][-1],'.5f'))+')'))\n",
    "    for l in val_loss_list:\n",
    "        plt.plot(epochs, history.history[l], 'g', label='Validation loss (' + str(str(format(history.history[l][-1],'.5f'))+')'))\n",
    "    \n",
    "    plt.title('Loss')\n",
    "    plt.xlabel('Epochs')\n",
    "    plt.ylabel('Loss')\n",
    "    plt.legend()\n",
    "    \n",
    "    ## Accuracy\n",
    "    plt.figure(2)\n",
    "    for l in acc_list:\n",
    "        plt.plot(epochs, history.history[l], 'b', label='Training accuracy (' + str(format(history.history[l][-1],'.5f'))+')')\n",
    "    for l in val_acc_list:    \n",
    "        plt.plot(epochs, history.history[l], 'g', label='Validation accuracy (' + str(format(history.history[l][-1],'.5f'))+')')\n",
    "\n",
    "    plt.title('Accuracy')\n",
    "    plt.xlabel('Epochs')\n",
    "    plt.ylabel('Accuracy')\n",
    "    plt.legend()\n",
    "    plt.show()"
   ]
  },
  {
   "cell_type": "code",
   "execution_count": null,
   "metadata": {},
   "outputs": [],
   "source": [
    "# Plotar grafico de cada fold\n",
    "\n",
    "for historico in history:\n",
    "    plot_history(historico)"
   ]
  }
 ],
 "metadata": {
  "kernelspec": {
   "display_name": "Python 3",
   "language": "python",
   "name": "python3"
  },
  "language_info": {
   "codemirror_mode": {
    "name": "ipython",
    "version": 3
   },
   "file_extension": ".py",
   "mimetype": "text/x-python",
   "name": "python",
   "nbconvert_exporter": "python",
   "pygments_lexer": "ipython3",
   "version": "3.7.3"
  }
 },
 "nbformat": 4,
 "nbformat_minor": 2
}
